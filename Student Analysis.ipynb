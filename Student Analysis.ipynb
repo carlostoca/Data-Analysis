{
 "cells": [
  {
   "cell_type": "code",
   "execution_count": 92,
   "id": "b7061062",
   "metadata": {},
   "outputs": [],
   "source": [
    "import pandas as pd\n",
    "import numpy as np\n",
    "import matplotlib.pyplot as plt\n",
    "import seaborn as sns\n",
    "import pingouin as pg\n",
    "import plotly.express as px\n",
    "from statsmodels.graphics.factorplots import interaction_plot"
   ]
  },
  {
   "cell_type": "code",
   "execution_count": 93,
   "id": "493b257c",
   "metadata": {},
   "outputs": [],
   "source": [
    "df = pd.read_csv('student.csv')"
   ]
  },
  {
   "cell_type": "code",
   "execution_count": 94,
   "id": "5c69c8da",
   "metadata": {},
   "outputs": [
    {
     "data": {
      "text/html": [
       "<div>\n",
       "<style scoped>\n",
       "    .dataframe tbody tr th:only-of-type {\n",
       "        vertical-align: middle;\n",
       "    }\n",
       "\n",
       "    .dataframe tbody tr th {\n",
       "        vertical-align: top;\n",
       "    }\n",
       "\n",
       "    .dataframe thead th {\n",
       "        text-align: right;\n",
       "    }\n",
       "</style>\n",
       "<table border=\"1\" class=\"dataframe\">\n",
       "  <thead>\n",
       "    <tr style=\"text-align: right;\">\n",
       "      <th></th>\n",
       "      <th>sex</th>\n",
       "      <th>internet</th>\n",
       "      <th>studytime</th>\n",
       "      <th>familysize</th>\n",
       "      <th>age</th>\n",
       "      <th>score</th>\n",
       "    </tr>\n",
       "  </thead>\n",
       "  <tbody>\n",
       "    <tr>\n",
       "      <th>0</th>\n",
       "      <td>F</td>\n",
       "      <td>no</td>\n",
       "      <td>2. 2 - 5 hours</td>\n",
       "      <td>&gt;3</td>\n",
       "      <td>18</td>\n",
       "      <td>6</td>\n",
       "    </tr>\n",
       "    <tr>\n",
       "      <th>1</th>\n",
       "      <td>F</td>\n",
       "      <td>yes</td>\n",
       "      <td>2. 2 - 5 hours</td>\n",
       "      <td>&gt;3</td>\n",
       "      <td>17</td>\n",
       "      <td>6</td>\n",
       "    </tr>\n",
       "    <tr>\n",
       "      <th>2</th>\n",
       "      <td>F</td>\n",
       "      <td>yes</td>\n",
       "      <td>2. 2 - 5 hours</td>\n",
       "      <td>&lt;=3</td>\n",
       "      <td>15</td>\n",
       "      <td>10</td>\n",
       "    </tr>\n",
       "    <tr>\n",
       "      <th>3</th>\n",
       "      <td>F</td>\n",
       "      <td>yes</td>\n",
       "      <td>3. 5 - 10 hours</td>\n",
       "      <td>&gt;3</td>\n",
       "      <td>15</td>\n",
       "      <td>15</td>\n",
       "    </tr>\n",
       "    <tr>\n",
       "      <th>4</th>\n",
       "      <td>F</td>\n",
       "      <td>no</td>\n",
       "      <td>2. 2 - 5 hours</td>\n",
       "      <td>&gt;3</td>\n",
       "      <td>16</td>\n",
       "      <td>10</td>\n",
       "    </tr>\n",
       "    <tr>\n",
       "      <th>5</th>\n",
       "      <td>M</td>\n",
       "      <td>yes</td>\n",
       "      <td>2. 2 - 5 hours</td>\n",
       "      <td>&lt;=3</td>\n",
       "      <td>16</td>\n",
       "      <td>15</td>\n",
       "    </tr>\n",
       "    <tr>\n",
       "      <th>6</th>\n",
       "      <td>M</td>\n",
       "      <td>yes</td>\n",
       "      <td>2. 2 - 5 hours</td>\n",
       "      <td>&lt;=3</td>\n",
       "      <td>16</td>\n",
       "      <td>11</td>\n",
       "    </tr>\n",
       "    <tr>\n",
       "      <th>7</th>\n",
       "      <td>F</td>\n",
       "      <td>no</td>\n",
       "      <td>2. 2 - 5 hours</td>\n",
       "      <td>&gt;3</td>\n",
       "      <td>17</td>\n",
       "      <td>6</td>\n",
       "    </tr>\n",
       "    <tr>\n",
       "      <th>8</th>\n",
       "      <td>M</td>\n",
       "      <td>yes</td>\n",
       "      <td>2. 2 - 5 hours</td>\n",
       "      <td>&lt;=3</td>\n",
       "      <td>15</td>\n",
       "      <td>19</td>\n",
       "    </tr>\n",
       "    <tr>\n",
       "      <th>9</th>\n",
       "      <td>M</td>\n",
       "      <td>yes</td>\n",
       "      <td>2. 2 - 5 hours</td>\n",
       "      <td>&gt;3</td>\n",
       "      <td>15</td>\n",
       "      <td>15</td>\n",
       "    </tr>\n",
       "  </tbody>\n",
       "</table>\n",
       "</div>"
      ],
      "text/plain": [
       "  sex internet        studytime familysize  age  score\n",
       "0   F       no   2. 2 - 5 hours         >3   18      6\n",
       "1   F      yes   2. 2 - 5 hours         >3   17      6\n",
       "2   F      yes   2. 2 - 5 hours        <=3   15     10\n",
       "3   F      yes  3. 5 - 10 hours         >3   15     15\n",
       "4   F       no   2. 2 - 5 hours         >3   16     10\n",
       "5   M      yes   2. 2 - 5 hours        <=3   16     15\n",
       "6   M      yes   2. 2 - 5 hours        <=3   16     11\n",
       "7   F       no   2. 2 - 5 hours         >3   17      6\n",
       "8   M      yes   2. 2 - 5 hours        <=3   15     19\n",
       "9   M      yes   2. 2 - 5 hours         >3   15     15"
      ]
     },
     "execution_count": 94,
     "metadata": {},
     "output_type": "execute_result"
    }
   ],
   "source": [
    "# Verify if you have the correct data \n",
    "\n",
    "df.head(10)"
   ]
  },
  {
   "cell_type": "code",
   "execution_count": 4,
   "id": "1a7e3171",
   "metadata": {},
   "outputs": [
    {
     "data": {
      "text/html": [
       "<div>\n",
       "<style scoped>\n",
       "    .dataframe tbody tr th:only-of-type {\n",
       "        vertical-align: middle;\n",
       "    }\n",
       "\n",
       "    .dataframe tbody tr th {\n",
       "        vertical-align: top;\n",
       "    }\n",
       "\n",
       "    .dataframe thead th {\n",
       "        text-align: right;\n",
       "    }\n",
       "</style>\n",
       "<table border=\"1\" class=\"dataframe\">\n",
       "  <thead>\n",
       "    <tr style=\"text-align: right;\">\n",
       "      <th></th>\n",
       "      <th>sex</th>\n",
       "      <th>internet</th>\n",
       "      <th>studytime</th>\n",
       "      <th>familysize</th>\n",
       "      <th>age</th>\n",
       "      <th>score</th>\n",
       "    </tr>\n",
       "  </thead>\n",
       "  <tbody>\n",
       "    <tr>\n",
       "      <th>385</th>\n",
       "      <td>F</td>\n",
       "      <td>no</td>\n",
       "      <td>3. 5 - 10 hours</td>\n",
       "      <td>&gt;3</td>\n",
       "      <td>18</td>\n",
       "      <td>10</td>\n",
       "    </tr>\n",
       "    <tr>\n",
       "      <th>386</th>\n",
       "      <td>F</td>\n",
       "      <td>yes</td>\n",
       "      <td>1. &lt;2 hours</td>\n",
       "      <td>&gt;3</td>\n",
       "      <td>18</td>\n",
       "      <td>6</td>\n",
       "    </tr>\n",
       "    <tr>\n",
       "      <th>387</th>\n",
       "      <td>F</td>\n",
       "      <td>yes</td>\n",
       "      <td>3. 5 - 10 hours</td>\n",
       "      <td>&gt;3</td>\n",
       "      <td>19</td>\n",
       "      <td>0</td>\n",
       "    </tr>\n",
       "    <tr>\n",
       "      <th>388</th>\n",
       "      <td>F</td>\n",
       "      <td>yes</td>\n",
       "      <td>2. 2 - 5 hours</td>\n",
       "      <td>&lt;=3</td>\n",
       "      <td>18</td>\n",
       "      <td>8</td>\n",
       "    </tr>\n",
       "    <tr>\n",
       "      <th>389</th>\n",
       "      <td>F</td>\n",
       "      <td>no</td>\n",
       "      <td>2. 2 - 5 hours</td>\n",
       "      <td>&gt;3</td>\n",
       "      <td>18</td>\n",
       "      <td>0</td>\n",
       "    </tr>\n",
       "    <tr>\n",
       "      <th>390</th>\n",
       "      <td>M</td>\n",
       "      <td>no</td>\n",
       "      <td>2. 2 - 5 hours</td>\n",
       "      <td>&lt;=3</td>\n",
       "      <td>20</td>\n",
       "      <td>9</td>\n",
       "    </tr>\n",
       "    <tr>\n",
       "      <th>391</th>\n",
       "      <td>M</td>\n",
       "      <td>yes</td>\n",
       "      <td>1. &lt;2 hours</td>\n",
       "      <td>&lt;=3</td>\n",
       "      <td>17</td>\n",
       "      <td>16</td>\n",
       "    </tr>\n",
       "    <tr>\n",
       "      <th>392</th>\n",
       "      <td>M</td>\n",
       "      <td>no</td>\n",
       "      <td>1. &lt;2 hours</td>\n",
       "      <td>&gt;3</td>\n",
       "      <td>21</td>\n",
       "      <td>7</td>\n",
       "    </tr>\n",
       "    <tr>\n",
       "      <th>393</th>\n",
       "      <td>M</td>\n",
       "      <td>yes</td>\n",
       "      <td>1. &lt;2 hours</td>\n",
       "      <td>&lt;=3</td>\n",
       "      <td>18</td>\n",
       "      <td>10</td>\n",
       "    </tr>\n",
       "    <tr>\n",
       "      <th>394</th>\n",
       "      <td>M</td>\n",
       "      <td>yes</td>\n",
       "      <td>1. &lt;2 hours</td>\n",
       "      <td>&lt;=3</td>\n",
       "      <td>19</td>\n",
       "      <td>9</td>\n",
       "    </tr>\n",
       "  </tbody>\n",
       "</table>\n",
       "</div>"
      ],
      "text/plain": [
       "    sex internet        studytime familysize  age  score\n",
       "385   F       no  3. 5 - 10 hours         >3   18     10\n",
       "386   F      yes      1. <2 hours         >3   18      6\n",
       "387   F      yes  3. 5 - 10 hours         >3   19      0\n",
       "388   F      yes   2. 2 - 5 hours        <=3   18      8\n",
       "389   F       no   2. 2 - 5 hours         >3   18      0\n",
       "390   M       no   2. 2 - 5 hours        <=3   20      9\n",
       "391   M      yes      1. <2 hours        <=3   17     16\n",
       "392   M       no      1. <2 hours         >3   21      7\n",
       "393   M      yes      1. <2 hours        <=3   18     10\n",
       "394   M      yes      1. <2 hours        <=3   19      9"
      ]
     },
     "execution_count": 4,
     "metadata": {},
     "output_type": "execute_result"
    }
   ],
   "source": [
    "# Verify if you have the correct data \n",
    "\n",
    "df.tail(10)"
   ]
  },
  {
   "cell_type": "code",
   "execution_count": 5,
   "id": "33c7e9f2",
   "metadata": {},
   "outputs": [
    {
     "name": "stdout",
     "output_type": "stream",
     "text": [
      "<class 'pandas.core.frame.DataFrame'>\n",
      "RangeIndex: 395 entries, 0 to 394\n",
      "Data columns (total 6 columns):\n",
      " #   Column      Non-Null Count  Dtype \n",
      "---  ------      --------------  ----- \n",
      " 0   sex         395 non-null    object\n",
      " 1   internet    395 non-null    object\n",
      " 2   studytime   395 non-null    object\n",
      " 3   familysize  395 non-null    object\n",
      " 4   age         395 non-null    int64 \n",
      " 5   score       395 non-null    int64 \n",
      "dtypes: int64(2), object(4)\n",
      "memory usage: 18.6+ KB\n"
     ]
    }
   ],
   "source": [
    "# Make sure all your columns have\n",
    "\n",
    "df.info()"
   ]
  },
  {
   "cell_type": "code",
   "execution_count": 6,
   "id": "518b4af8",
   "metadata": {},
   "outputs": [
    {
     "data": {
      "text/html": [
       "<div>\n",
       "<style scoped>\n",
       "    .dataframe tbody tr th:only-of-type {\n",
       "        vertical-align: middle;\n",
       "    }\n",
       "\n",
       "    .dataframe tbody tr th {\n",
       "        vertical-align: top;\n",
       "    }\n",
       "\n",
       "    .dataframe thead th {\n",
       "        text-align: right;\n",
       "    }\n",
       "</style>\n",
       "<table border=\"1\" class=\"dataframe\">\n",
       "  <thead>\n",
       "    <tr style=\"text-align: right;\">\n",
       "      <th></th>\n",
       "      <th>age</th>\n",
       "      <th>score</th>\n",
       "    </tr>\n",
       "  </thead>\n",
       "  <tbody>\n",
       "    <tr>\n",
       "      <th>count</th>\n",
       "      <td>395.000000</td>\n",
       "      <td>395.000000</td>\n",
       "    </tr>\n",
       "    <tr>\n",
       "      <th>mean</th>\n",
       "      <td>16.696203</td>\n",
       "      <td>10.415190</td>\n",
       "    </tr>\n",
       "    <tr>\n",
       "      <th>std</th>\n",
       "      <td>1.276043</td>\n",
       "      <td>4.581443</td>\n",
       "    </tr>\n",
       "    <tr>\n",
       "      <th>min</th>\n",
       "      <td>15.000000</td>\n",
       "      <td>0.000000</td>\n",
       "    </tr>\n",
       "    <tr>\n",
       "      <th>25%</th>\n",
       "      <td>16.000000</td>\n",
       "      <td>8.000000</td>\n",
       "    </tr>\n",
       "    <tr>\n",
       "      <th>50%</th>\n",
       "      <td>17.000000</td>\n",
       "      <td>11.000000</td>\n",
       "    </tr>\n",
       "    <tr>\n",
       "      <th>75%</th>\n",
       "      <td>18.000000</td>\n",
       "      <td>14.000000</td>\n",
       "    </tr>\n",
       "    <tr>\n",
       "      <th>max</th>\n",
       "      <td>22.000000</td>\n",
       "      <td>20.000000</td>\n",
       "    </tr>\n",
       "  </tbody>\n",
       "</table>\n",
       "</div>"
      ],
      "text/plain": [
       "              age       score\n",
       "count  395.000000  395.000000\n",
       "mean    16.696203   10.415190\n",
       "std      1.276043    4.581443\n",
       "min     15.000000    0.000000\n",
       "25%     16.000000    8.000000\n",
       "50%     17.000000   11.000000\n",
       "75%     18.000000   14.000000\n",
       "max     22.000000   20.000000"
      ]
     },
     "execution_count": 6,
     "metadata": {},
     "output_type": "execute_result"
    }
   ],
   "source": [
    "\n",
    "df.describe()"
   ]
  },
  {
   "cell_type": "markdown",
   "id": "8e47ee9f",
   "metadata": {},
   "source": [
    "# Sample size"
   ]
  },
  {
   "cell_type": "code",
   "execution_count": 95,
   "id": "f868b9f7",
   "metadata": {},
   "outputs": [
    {
     "name": "stdout",
     "output_type": "stream",
     "text": [
      "The sample size is: 395\n"
     ]
    }
   ],
   "source": [
    "pa = len(df)\n",
    "\n",
    "print('The sample size is:', pa)"
   ]
  },
  {
   "cell_type": "markdown",
   "id": "c8cdf8ca",
   "metadata": {},
   "source": [
    "# Students per gender"
   ]
  },
  {
   "cell_type": "code",
   "execution_count": 8,
   "id": "74be427f",
   "metadata": {},
   "outputs": [
    {
     "data": {
      "text/plain": [
       "<bound method DataFrame.reset_index of      score\n",
       "sex       \n",
       "F      208\n",
       "M      187>"
      ]
     },
     "execution_count": 8,
     "metadata": {},
     "output_type": "execute_result"
    }
   ],
   "source": [
    "# In the data were 208 feamle and 187 male \n",
    "\n",
    "table = pd.pivot_table(df, index = 'sex', values = 'score', columns = None, aggfunc = 'count').reset_index\n",
    "table"
   ]
  },
  {
   "cell_type": "code",
   "execution_count": 78,
   "id": "ef57e47e",
   "metadata": {},
   "outputs": [
    {
     "data": {
      "text/plain": [
       "Text(0.5, 0, 'Sex')"
      ]
     },
     "execution_count": 78,
     "metadata": {},
     "output_type": "execute_result"
    },
    {
     "data": {
      "image/png": "[encoded data removed]",
      "text/plain": [
       "<Figure size 300x400 with 1 Axes>"
      ]
     },
     "metadata": {},
     "output_type": "display_data"
    }
   ],
   "source": [
    "df['sex'].value_counts().plot(kind = 'bar', figsize = (3,4),)\n",
    "plt.title('Students per gender')\n",
    "plt.ylabel('Students')\n",
    "plt.xlabel('Sex')"
   ]
  },
  {
   "cell_type": "code",
   "execution_count": 96,
   "id": "33778298",
   "metadata": {},
   "outputs": [
    {
     "data": {
      "image/png": "[encoded data removed]",
      "text/plain": [
       "<Figure size 640x480 with 1 Axes>"
      ]
     },
     "metadata": {},
     "output_type": "display_data"
    }
   ],
   "source": [
    "# This type of representation allows a preliminary identification of asymmetries, outliers and difference in variance\n",
    "# In this case female and male seem to follow asymmetrical distribution.\n",
    "# At both of them some values are extreme \n",
    "#The size of the boxes is similar for both of them, there is no indication of a lack of homoscedasticity\n",
    "\n",
    "ax_s = sns.boxplot(x='sex', y='score', data=df)\n",
    "ax_s = sns.stripplot(x= 'sex', y= 'score', data=df)"
   ]
  },
  {
   "cell_type": "code",
   "execution_count": 15,
   "id": "727570f8",
   "metadata": {},
   "outputs": [
    {
     "data": {
      "image/png": "[encoded data removed]",
      "text/plain": [
       "<Figure size 1500x600 with 2 Axes>"
      ]
     },
     "metadata": {},
     "output_type": "display_data"
    }
   ],
   "source": [
    "# This type of representation allows a preliminary identification if the data have normality \n",
    "# As we can see both of them does not have. \n",
    "\n",
    "fig, axs = plt.subplots(1,2, figsize=(15,6))\n",
    "pg.qqplot(df.loc[df.sex == 'M', 'score'], dist='norm', ax=axs[0])\n",
    "axs[0].set_title('Male')\n",
    "pg.qqplot(df.loc[df.sex == 'F', 'score'], dist='norm', ax=axs[1])\n",
    "axs[1].set_title('Female')\n",
    "plt.tight_layout()"
   ]
  },
  {
   "cell_type": "markdown",
   "id": "622a95ba",
   "metadata": {},
   "source": [
    "# Students per age"
   ]
  },
  {
   "cell_type": "code",
   "execution_count": 16,
   "id": "484c43f4",
   "metadata": {},
   "outputs": [
    {
     "data": {
      "text/plain": [
       "16    104\n",
       "17     98\n",
       "18     82\n",
       "15     82\n",
       "19     24\n",
       "20      3\n",
       "22      1\n",
       "21      1\n",
       "Name: age, dtype: int64"
      ]
     },
     "execution_count": 16,
     "metadata": {},
     "output_type": "execute_result"
    }
   ],
   "source": [
    "pce = df['age'].value_counts()\n",
    "pce"
   ]
  },
  {
   "cell_type": "code",
   "execution_count": 117,
   "id": "e962d2e9",
   "metadata": {},
   "outputs": [
    {
     "data": {
      "text/plain": [
       "Text(0.5, 1.0, 'Students per age')"
      ]
     },
     "execution_count": 117,
     "metadata": {},
     "output_type": "execute_result"
    },
    {
     "data": {
      "image/png": "[encoded data removed]",
      "text/plain": [
       "<Figure size 300x400 with 1 Axes>"
      ]
     },
     "metadata": {},
     "output_type": "display_data"
    }
   ],
   "source": [
    "df['age'].value_counts().plot(kind = 'bar', figsize = (3,4),)\n",
    "plt.ylabel('Students')\n",
    "plt.xlabel('Age')\n",
    "plt.title('Students per age')"
   ]
  },
  {
   "cell_type": "code",
   "execution_count": 84,
   "id": "27a721ef",
   "metadata": {},
   "outputs": [
    {
     "name": "stdout",
     "output_type": "stream",
     "text": [
      "Distribution percentage per age\n"
     ]
    },
    {
     "data": {
      "image/png": "[encoded data removed]",
      "text/plain": [
       "<Figure size 500x500 with 1 Axes>"
      ]
     },
     "metadata": {},
     "output_type": "display_data"
    }
   ],
   "source": [
    "print('Distribution percentage per age')\n",
    "pce = df['age'].value_counts().plot(kind = 'pie', figsize = (5,5), autopct = '%.2f%%' )"
   ]
  },
  {
   "cell_type": "code",
   "execution_count": 97,
   "id": "f7a96936",
   "metadata": {},
   "outputs": [
    {
     "data": {
      "text/html": [
       "<div>\n",
       "<style scoped>\n",
       "    .dataframe tbody tr th:only-of-type {\n",
       "        vertical-align: middle;\n",
       "    }\n",
       "\n",
       "    .dataframe tbody tr th {\n",
       "        vertical-align: top;\n",
       "    }\n",
       "\n",
       "    .dataframe thead th {\n",
       "        text-align: right;\n",
       "    }\n",
       "</style>\n",
       "<table border=\"1\" class=\"dataframe\">\n",
       "  <thead>\n",
       "    <tr style=\"text-align: right;\">\n",
       "      <th>sex</th>\n",
       "      <th>F</th>\n",
       "      <th>M</th>\n",
       "    </tr>\n",
       "    <tr>\n",
       "      <th>age</th>\n",
       "      <th></th>\n",
       "      <th></th>\n",
       "    </tr>\n",
       "  </thead>\n",
       "  <tbody>\n",
       "    <tr>\n",
       "      <th>15</th>\n",
       "      <td>38.0</td>\n",
       "      <td>44.0</td>\n",
       "    </tr>\n",
       "    <tr>\n",
       "      <th>16</th>\n",
       "      <td>54.0</td>\n",
       "      <td>50.0</td>\n",
       "    </tr>\n",
       "    <tr>\n",
       "      <th>17</th>\n",
       "      <td>58.0</td>\n",
       "      <td>40.0</td>\n",
       "    </tr>\n",
       "    <tr>\n",
       "      <th>18</th>\n",
       "      <td>43.0</td>\n",
       "      <td>39.0</td>\n",
       "    </tr>\n",
       "    <tr>\n",
       "      <th>19</th>\n",
       "      <td>14.0</td>\n",
       "      <td>10.0</td>\n",
       "    </tr>\n",
       "    <tr>\n",
       "      <th>20</th>\n",
       "      <td>1.0</td>\n",
       "      <td>2.0</td>\n",
       "    </tr>\n",
       "    <tr>\n",
       "      <th>21</th>\n",
       "      <td>NaN</td>\n",
       "      <td>1.0</td>\n",
       "    </tr>\n",
       "    <tr>\n",
       "      <th>22</th>\n",
       "      <td>NaN</td>\n",
       "      <td>1.0</td>\n",
       "    </tr>\n",
       "  </tbody>\n",
       "</table>\n",
       "</div>"
      ],
      "text/plain": [
       "sex     F     M\n",
       "age            \n",
       "15   38.0  44.0\n",
       "16   54.0  50.0\n",
       "17   58.0  40.0\n",
       "18   43.0  39.0\n",
       "19   14.0  10.0\n",
       "20    1.0   2.0\n",
       "21    NaN   1.0\n",
       "22    NaN   1.0"
      ]
     },
     "execution_count": 97,
     "metadata": {},
     "output_type": "execute_result"
    }
   ],
   "source": [
    "seage = df.pivot_table(\n",
    "    values=\"score\", index=\"age\", columns=\"sex\", aggfunc= 'count'\n",
    ")\n",
    "seage"
   ]
  },
  {
   "cell_type": "code",
   "execution_count": 25,
   "id": "8099cfeb",
   "metadata": {},
   "outputs": [
    {
     "data": {
      "text/plain": [
       "Text(0.5, 1.0, 'Students per gender and per age')"
      ]
     },
     "execution_count": 25,
     "metadata": {},
     "output_type": "execute_result"
    },
    {
     "data": {
      "image/png": "[encoded data removed]",
      "text/plain": [
       "<Figure size 640x480 with 1 Axes>"
      ]
     },
     "metadata": {},
     "output_type": "display_data"
    }
   ],
   "source": [
    "ax = plt.subplots ()\n",
    "ax = plt.plot(seage)\n",
    "plt.ylabel('Amount of students')\n",
    "plt.xlabel('Age')\n",
    "plt.legend('Female')\n",
    "\n",
    "\n",
    "plt.title('Students per gender and per age')\n"
   ]
  },
  {
   "cell_type": "code",
   "execution_count": 24,
   "id": "dd93ef80",
   "metadata": {},
   "outputs": [
    {
     "data": {
      "text/plain": [
       "Text(0.5, 1.0, 'Hola')"
      ]
     },
     "execution_count": 24,
     "metadata": {},
     "output_type": "execute_result"
    },
    {
     "data": {
      "image/png": "[encoded data removed]",
      "text/plain": [
       "<Figure size 640x480 with 1 Axes>"
      ]
     },
     "metadata": {},
     "output_type": "display_data"
    }
   ],
   "source": [
    "# This type of representation allows a preliminary identification of asymmetries, outliers and difference in variance\n",
    "# In this case 4 grupos seem to follow asymmetrical distribution.\n",
    "# All of them some values are extreme \n",
    "# Not all the size of the boxes is similar so, there is a indication of a lack of homoscedasticity\n",
    "\n",
    "ax = sns.boxplot(x='age', y='score', data=df)\n",
    "ax = sns.stripplot(x= 'age', y= 'score', data=df)\n",
    "\n",
    "\n",
    "plt.title('Hola')"
   ]
  },
  {
   "cell_type": "code",
   "execution_count": 26,
   "id": "b33b89de",
   "metadata": {},
   "outputs": [
    {
     "data": {
      "text/html": [
       "<div>\n",
       "<style scoped>\n",
       "    .dataframe tbody tr th:only-of-type {\n",
       "        vertical-align: middle;\n",
       "    }\n",
       "\n",
       "    .dataframe tbody tr th {\n",
       "        vertical-align: top;\n",
       "    }\n",
       "\n",
       "    .dataframe thead th {\n",
       "        text-align: right;\n",
       "    }\n",
       "</style>\n",
       "<table border=\"1\" class=\"dataframe\">\n",
       "  <thead>\n",
       "    <tr style=\"text-align: right;\">\n",
       "      <th></th>\n",
       "      <th>mean</th>\n",
       "      <th>std</th>\n",
       "    </tr>\n",
       "    <tr>\n",
       "      <th>age</th>\n",
       "      <th></th>\n",
       "      <th></th>\n",
       "    </tr>\n",
       "  </thead>\n",
       "  <tbody>\n",
       "    <tr>\n",
       "      <th>15</th>\n",
       "      <td>11.256098</td>\n",
       "      <td>4.596861</td>\n",
       "    </tr>\n",
       "    <tr>\n",
       "      <th>16</th>\n",
       "      <td>11.028846</td>\n",
       "      <td>4.282402</td>\n",
       "    </tr>\n",
       "    <tr>\n",
       "      <th>17</th>\n",
       "      <td>10.275510</td>\n",
       "      <td>4.290437</td>\n",
       "    </tr>\n",
       "    <tr>\n",
       "      <th>18</th>\n",
       "      <td>9.548780</td>\n",
       "      <td>4.994200</td>\n",
       "    </tr>\n",
       "    <tr>\n",
       "      <th>19</th>\n",
       "      <td>8.208333</td>\n",
       "      <td>4.606037</td>\n",
       "    </tr>\n",
       "    <tr>\n",
       "      <th>20</th>\n",
       "      <td>14.000000</td>\n",
       "      <td>4.582576</td>\n",
       "    </tr>\n",
       "    <tr>\n",
       "      <th>21</th>\n",
       "      <td>7.000000</td>\n",
       "      <td>NaN</td>\n",
       "    </tr>\n",
       "    <tr>\n",
       "      <th>22</th>\n",
       "      <td>8.000000</td>\n",
       "      <td>NaN</td>\n",
       "    </tr>\n",
       "  </tbody>\n",
       "</table>\n",
       "</div>"
      ],
      "text/plain": [
       "          mean       std\n",
       "age                     \n",
       "15   11.256098  4.596861\n",
       "16   11.028846  4.282402\n",
       "17   10.275510  4.290437\n",
       "18    9.548780  4.994200\n",
       "19    8.208333  4.606037\n",
       "20   14.000000  4.582576\n",
       "21    7.000000       NaN\n",
       "22    8.000000       NaN"
      ]
     },
     "execution_count": 26,
     "metadata": {},
     "output_type": "execute_result"
    }
   ],
   "source": [
    "smdte = df.groupby('age')['score'].agg(['mean','std'])\n",
    "smdte\n"
   ]
  },
  {
   "cell_type": "code",
   "execution_count": 118,
   "id": "237ba83a",
   "metadata": {},
   "outputs": [
    {
     "data": {
      "text/plain": [
       "Text(0.5, 1.0, 'Mean and Distribution of Age')"
      ]
     },
     "execution_count": 118,
     "metadata": {},
     "output_type": "execute_result"
    },
    {
     "data": {
      "image/png": "[encoded data removed]",
      "text/plain": [
       "<Figure size 300x400 with 1 Axes>"
      ]
     },
     "metadata": {},
     "output_type": "display_data"
    }
   ],
   "source": [
    "smdte.plot(kind = 'bar', figsize = (3,4),)\n",
    "plt.title('Mean and Distribution of Age')\n"
   ]
  },
  {
   "cell_type": "markdown",
   "id": "aee45d65",
   "metadata": {},
   "source": [
    "# Study time per gender"
   ]
  },
  {
   "cell_type": "code",
   "execution_count": 86,
   "id": "976e64ad",
   "metadata": {},
   "outputs": [
    {
     "data": {
      "text/html": [
       "<div>\n",
       "<style scoped>\n",
       "    .dataframe tbody tr th:only-of-type {\n",
       "        vertical-align: middle;\n",
       "    }\n",
       "\n",
       "    .dataframe tbody tr th {\n",
       "        vertical-align: top;\n",
       "    }\n",
       "\n",
       "    .dataframe thead th {\n",
       "        text-align: right;\n",
       "    }\n",
       "</style>\n",
       "<table border=\"1\" class=\"dataframe\">\n",
       "  <thead>\n",
       "    <tr style=\"text-align: right;\">\n",
       "      <th>sex</th>\n",
       "      <th>F</th>\n",
       "      <th>M</th>\n",
       "    </tr>\n",
       "    <tr>\n",
       "      <th>studytime</th>\n",
       "      <th></th>\n",
       "      <th></th>\n",
       "    </tr>\n",
       "  </thead>\n",
       "  <tbody>\n",
       "    <tr>\n",
       "      <th>1. &lt;2 hours</th>\n",
       "      <td>27</td>\n",
       "      <td>78</td>\n",
       "    </tr>\n",
       "    <tr>\n",
       "      <th>2. 2 - 5 hours</th>\n",
       "      <td>113</td>\n",
       "      <td>85</td>\n",
       "    </tr>\n",
       "    <tr>\n",
       "      <th>3. 5 - 10 hours</th>\n",
       "      <td>51</td>\n",
       "      <td>14</td>\n",
       "    </tr>\n",
       "    <tr>\n",
       "      <th>4. &gt;10 hours</th>\n",
       "      <td>17</td>\n",
       "      <td>10</td>\n",
       "    </tr>\n",
       "  </tbody>\n",
       "</table>\n",
       "</div>"
      ],
      "text/plain": [
       "sex                F   M\n",
       "studytime               \n",
       "1. <2 hours       27  78\n",
       "2. 2 - 5 hours   113  85\n",
       "3. 5 - 10 hours   51  14\n",
       "4. >10 hours      17  10"
      ]
     },
     "execution_count": 86,
     "metadata": {},
     "output_type": "execute_result"
    }
   ],
   "source": [
    "# In the next table you can see the hours of study time per gender\n",
    "# The most popular study time in this analisis is: 2 - 5 hours\n",
    "\n",
    "hesg = df.pivot_table(values=\"score\", index=\"studytime\", columns=\"sex\", aggfunc= 'count')\n",
    "hesg"
   ]
  },
  {
   "cell_type": "code",
   "execution_count": 89,
   "id": "210f5fd9",
   "metadata": {},
   "outputs": [
    {
     "data": {
      "text/plain": [
       "Text(0, 0.5, 'Students')"
      ]
     },
     "execution_count": 89,
     "metadata": {},
     "output_type": "execute_result"
    },
    {
     "data": {
      "image/png": "[encoded data removed]",
      "text/plain": [
       "<Figure size 300x400 with 1 Axes>"
      ]
     },
     "metadata": {},
     "output_type": "display_data"
    }
   ],
   "source": [
    "hesg.plot(kind = 'bar', figsize = (3,4),)\n",
    "plt.title('Study time per gender')\n",
    "plt.ylabel('Students')"
   ]
  },
  {
   "cell_type": "markdown",
   "id": "4f955e4d",
   "metadata": {},
   "source": [
    "# Students with passing and failing score"
   ]
  },
  {
   "cell_type": "code",
   "execution_count": 109,
   "id": "6ce59136",
   "metadata": {},
   "outputs": [
    {
     "name": "stdout",
     "output_type": "stream",
     "text": [
      "The next result represents the amount of the students with a passing grade, which means that their score was higher than 10: 209\n"
     ]
    }
   ],
   "source": [
    "ap_y = df[(df.score >10)].count()[0]\n",
    "ap_y\n",
    "print('The next result represents the amount of the students with a passing grade, which means that their score was higher than 10:',\n",
    "      ap_y)"
   ]
  },
  {
   "cell_type": "code",
   "execution_count": 119,
   "id": "8f7f506a",
   "metadata": {},
   "outputs": [
    {
     "name": "stdout",
     "output_type": "stream",
     "text": [
      "The next result represents the amount of the students with a passing grade, which means that their score was 10 or lower: 186\n"
     ]
    }
   ],
   "source": [
    "ap_n = df.loc[df['score'] <= 10].count()[0]\n",
    "ap_n\n",
    "\n",
    "print('The next result represents the amount of the students with a passing grade, which means that their score was 10 or lower:', ap_n)"
   ]
  },
  {
   "cell_type": "code",
   "execution_count": 120,
   "id": "77051981",
   "metadata": {},
   "outputs": [
    {
     "data": {
      "image/png": "[encoded data removed]",
      "text/plain": [
       "<Figure size 640x480 with 1 Axes>"
      ]
     },
     "metadata": {},
     "output_type": "display_data"
    }
   ],
   "source": [
    "labels = ['Pass', 'Failed']\n",
    "\n",
    "plt.pie([ap_y,ap_n],labels = labels, autopct = '%.2f%%')\n",
    "\n",
    "plt.title('Percentage of students')\n",
    "plt.show()"
   ]
  },
  {
   "cell_type": "markdown",
   "id": "b67ff2d7",
   "metadata": {},
   "source": [
    "# Female students who pass and failed score"
   ]
  },
  {
   "cell_type": "code",
   "execution_count": 108,
   "id": "e8bece48",
   "metadata": {},
   "outputs": [
    {
     "data": {
      "text/plain": [
       "103"
      ]
     },
     "execution_count": 108,
     "metadata": {},
     "output_type": "execute_result"
    }
   ],
   "source": [
    "# This result is the amount of female students that have a failing score\n",
    "\n",
    "mf = df[(df.sex == 'F') & (df.score > 10)].count()[0]\n",
    "mf"
   ]
  },
  {
   "cell_type": "code",
   "execution_count": 101,
   "id": "a127e438",
   "metadata": {},
   "outputs": [
    {
     "data": {
      "text/plain": [
       "105"
      ]
     },
     "execution_count": 101,
     "metadata": {},
     "output_type": "execute_result"
    }
   ],
   "source": [
    "# This result is the amount of female students that have a passing score\n",
    "\n",
    "mf1 = df[(df.sex == 'F') & (df.score <= 10)].count()[0]\n",
    "mf1"
   ]
  },
  {
   "cell_type": "code",
   "execution_count": 121,
   "id": "ffd29557",
   "metadata": {},
   "outputs": [
    {
     "data": {
      "image/png": "[encoded data removed]",
      "text/plain": [
       "<Figure size 640x480 with 1 Axes>"
      ]
     },
     "metadata": {},
     "output_type": "display_data"
    }
   ],
   "source": [
    "ldhi = lables = ['Pass','Failed']\n",
    "plt.pie([mf,mf1],labels = ldhi, autopct = '%.2f%%')\n",
    "plt.show()"
   ]
  },
  {
   "cell_type": "markdown",
   "id": "faaff9d1",
   "metadata": {},
   "source": [
    "# Female - passing score vs study time "
   ]
  },
  {
   "cell_type": "code",
   "execution_count": 29,
   "id": "564f216a",
   "metadata": {},
   "outputs": [
    {
     "data": {
      "text/plain": [
       "14"
      ]
     },
     "execution_count": 29,
     "metadata": {},
     "output_type": "execute_result"
    }
   ],
   "source": [
    "mstf = df[(df.sex == 'F') & (df.score > 10) & (df.studytime =='1. <2 hours')].count()[0]\n",
    "mstf"
   ]
  },
  {
   "cell_type": "code",
   "execution_count": 30,
   "id": "3ab0085f",
   "metadata": {},
   "outputs": [
    {
     "data": {
      "text/plain": [
       "49"
      ]
     },
     "execution_count": 30,
     "metadata": {},
     "output_type": "execute_result"
    }
   ],
   "source": [
    "mstf1 = df[(df.sex == 'F') & (df.score > 10) & (df.studytime =='2. 2 - 5 hours')].count()[0]\n",
    "mstf1"
   ]
  },
  {
   "cell_type": "code",
   "execution_count": 31,
   "id": "6db141e7",
   "metadata": {},
   "outputs": [
    {
     "data": {
      "text/plain": [
       "29"
      ]
     },
     "execution_count": 31,
     "metadata": {},
     "output_type": "execute_result"
    }
   ],
   "source": [
    "mstf2 = df[(df.sex == 'F') & (df.score > 10) & (df.studytime =='3. 5 - 10 hours')].count()[0]\n",
    "mstf2"
   ]
  },
  {
   "cell_type": "code",
   "execution_count": 32,
   "id": "c0eb2074",
   "metadata": {},
   "outputs": [
    {
     "data": {
      "text/plain": [
       "11"
      ]
     },
     "execution_count": 32,
     "metadata": {},
     "output_type": "execute_result"
    }
   ],
   "source": [
    "mstf3 = df[(df.sex == 'F') & (df.score > 10) & (df.studytime =='4. >10 hours')].count()[0]\n",
    "mstf3"
   ]
  },
  {
   "cell_type": "markdown",
   "id": "6cacec53",
   "metadata": {},
   "source": [
    "# Male students who pass and failed score"
   ]
  },
  {
   "cell_type": "code",
   "execution_count": 103,
   "id": "8bc66bef",
   "metadata": {},
   "outputs": [
    {
     "data": {
      "text/plain": [
       "106"
      ]
     },
     "execution_count": 103,
     "metadata": {},
     "output_type": "execute_result"
    }
   ],
   "source": [
    "# This result is the amount of male students that have a passing score\n",
    "mr = df[(df.sex == 'M') & (df.score > 10)].count()[0]\n",
    "mr"
   ]
  },
  {
   "cell_type": "code",
   "execution_count": 104,
   "id": "ca0e3835",
   "metadata": {},
   "outputs": [
    {
     "data": {
      "text/plain": [
       "81"
      ]
     },
     "execution_count": 104,
     "metadata": {},
     "output_type": "execute_result"
    }
   ],
   "source": [
    "# This result is the amount of male students that have a failing score\n",
    "ma = df[(df.sex == 'M') & (df.score <= 10)].count()[0]\n",
    "ma"
   ]
  },
  {
   "cell_type": "code",
   "execution_count": 115,
   "id": "c849dde1",
   "metadata": {},
   "outputs": [
    {
     "name": "stdout",
     "output_type": "stream",
     "text": [
      "Percentage of students by score\n"
     ]
    },
    {
     "data": {
      "image/png": "[encoded data removed]",
      "text/plain": [
       "<Figure size 640x480 with 1 Axes>"
      ]
     },
     "metadata": {},
     "output_type": "display_data"
    }
   ],
   "source": [
    "lmpd = lables = ['Pass','Failed']\n",
    "plt.pie([mr,ma],labels = lmpd, autopct = '%.2f%%')\n",
    "print ('Percentage of students by score')\n",
    "plt.show()"
   ]
  },
  {
   "cell_type": "markdown",
   "id": "8b57f055",
   "metadata": {},
   "source": [
    "# Male - score vs study time"
   ]
  },
  {
   "cell_type": "code",
   "execution_count": 33,
   "id": "d59a8ec5",
   "metadata": {},
   "outputs": [
    {
     "data": {
      "text/plain": [
       "37"
      ]
     },
     "execution_count": 33,
     "metadata": {},
     "output_type": "execute_result"
    }
   ],
   "source": [
    "mstf = df[(df.sex == 'M') & (df.score > 10) & (df.studytime =='1. <2 hours')].count()[0]\n",
    "mstf"
   ]
  },
  {
   "cell_type": "code",
   "execution_count": 34,
   "id": "d6960f5d",
   "metadata": {},
   "outputs": [
    {
     "data": {
      "text/plain": [
       "51"
      ]
     },
     "execution_count": 34,
     "metadata": {},
     "output_type": "execute_result"
    }
   ],
   "source": [
    "mstf1 = df[(df.sex == 'M') & (df.score > 10) & (df.studytime =='2. 2 - 5 hours')].count()[0]\n",
    "mstf1"
   ]
  },
  {
   "cell_type": "code",
   "execution_count": 35,
   "id": "22b41464",
   "metadata": {},
   "outputs": [
    {
     "data": {
      "text/plain": [
       "12"
      ]
     },
     "execution_count": 35,
     "metadata": {},
     "output_type": "execute_result"
    }
   ],
   "source": [
    "mstf2 = df[(df.sex == 'M') & (df.score > 10) & (df.studytime =='3. 5 - 10 hours')].count()[0]\n",
    "mstf2"
   ]
  },
  {
   "cell_type": "code",
   "execution_count": 36,
   "id": "a8aef91f",
   "metadata": {},
   "outputs": [
    {
     "data": {
      "text/plain": [
       "6"
      ]
     },
     "execution_count": 36,
     "metadata": {},
     "output_type": "execute_result"
    }
   ],
   "source": [
    "mstf3 = df[(df.sex == 'M') & (df.score > 10) & (df.studytime =='4. >10 hours')].count()[0]\n",
    "mstf3"
   ]
  },
  {
   "cell_type": "markdown",
   "id": "34222252",
   "metadata": {},
   "source": [
    "# Mean - Study time, Age and Gender"
   ]
  },
  {
   "cell_type": "code",
   "execution_count": 37,
   "id": "b6a9b16b",
   "metadata": {},
   "outputs": [
    {
     "data": {
      "text/html": [
       "<div>\n",
       "<style scoped>\n",
       "    .dataframe tbody tr th:only-of-type {\n",
       "        vertical-align: middle;\n",
       "    }\n",
       "\n",
       "    .dataframe tbody tr th {\n",
       "        vertical-align: top;\n",
       "    }\n",
       "\n",
       "    .dataframe thead tr th {\n",
       "        text-align: left;\n",
       "    }\n",
       "\n",
       "    .dataframe thead tr:last-of-type th {\n",
       "        text-align: right;\n",
       "    }\n",
       "</style>\n",
       "<table border=\"1\" class=\"dataframe\">\n",
       "  <thead>\n",
       "    <tr>\n",
       "      <th></th>\n",
       "      <th></th>\n",
       "      <th colspan=\"2\" halign=\"left\">mean</th>\n",
       "      <th colspan=\"2\" halign=\"left\">std</th>\n",
       "    </tr>\n",
       "    <tr>\n",
       "      <th></th>\n",
       "      <th>sex</th>\n",
       "      <th>F</th>\n",
       "      <th>M</th>\n",
       "      <th>F</th>\n",
       "      <th>M</th>\n",
       "    </tr>\n",
       "    <tr>\n",
       "      <th>studytime</th>\n",
       "      <th>age</th>\n",
       "      <th></th>\n",
       "      <th></th>\n",
       "      <th></th>\n",
       "      <th></th>\n",
       "    </tr>\n",
       "  </thead>\n",
       "  <tbody>\n",
       "    <tr>\n",
       "      <th rowspan=\"8\" valign=\"top\">1. &lt;2 hours</th>\n",
       "      <th>15</th>\n",
       "      <td>10.857143</td>\n",
       "      <td>13.357143</td>\n",
       "      <td>6.039552</td>\n",
       "      <td>2.898465</td>\n",
       "    </tr>\n",
       "    <tr>\n",
       "      <th>16</th>\n",
       "      <td>10.333333</td>\n",
       "      <td>10.400000</td>\n",
       "      <td>4.330127</td>\n",
       "      <td>5.515131</td>\n",
       "    </tr>\n",
       "    <tr>\n",
       "      <th>17</th>\n",
       "      <td>8.875000</td>\n",
       "      <td>9.882353</td>\n",
       "      <td>5.436320</td>\n",
       "      <td>4.768154</td>\n",
       "    </tr>\n",
       "    <tr>\n",
       "      <th>18</th>\n",
       "      <td>8.666667</td>\n",
       "      <td>8.285714</td>\n",
       "      <td>2.309401</td>\n",
       "      <td>4.427685</td>\n",
       "    </tr>\n",
       "    <tr>\n",
       "      <th>19</th>\n",
       "      <td>NaN</td>\n",
       "      <td>5.000000</td>\n",
       "      <td>NaN</td>\n",
       "      <td>4.582576</td>\n",
       "    </tr>\n",
       "    <tr>\n",
       "      <th>20</th>\n",
       "      <td>NaN</td>\n",
       "      <td>18.000000</td>\n",
       "      <td>NaN</td>\n",
       "      <td>NaN</td>\n",
       "    </tr>\n",
       "    <tr>\n",
       "      <th>21</th>\n",
       "      <td>NaN</td>\n",
       "      <td>7.000000</td>\n",
       "      <td>NaN</td>\n",
       "      <td>NaN</td>\n",
       "    </tr>\n",
       "    <tr>\n",
       "      <th>22</th>\n",
       "      <td>NaN</td>\n",
       "      <td>8.000000</td>\n",
       "      <td>NaN</td>\n",
       "      <td>NaN</td>\n",
       "    </tr>\n",
       "    <tr>\n",
       "      <th rowspan=\"6\" valign=\"top\">2. 2 - 5 hours</th>\n",
       "      <th>15</th>\n",
       "      <td>8.944444</td>\n",
       "      <td>12.700000</td>\n",
       "      <td>3.701704</td>\n",
       "      <td>4.612340</td>\n",
       "    </tr>\n",
       "    <tr>\n",
       "      <th>16</th>\n",
       "      <td>10.542857</td>\n",
       "      <td>11.736842</td>\n",
       "      <td>3.950747</td>\n",
       "      <td>2.959769</td>\n",
       "    </tr>\n",
       "    <tr>\n",
       "      <th>17</th>\n",
       "      <td>10.037037</td>\n",
       "      <td>10.043478</td>\n",
       "      <td>4.318845</td>\n",
       "      <td>2.976854</td>\n",
       "    </tr>\n",
       "    <tr>\n",
       "      <th>18</th>\n",
       "      <td>8.440000</td>\n",
       "      <td>9.941176</td>\n",
       "      <td>4.975607</td>\n",
       "      <td>4.892221</td>\n",
       "    </tr>\n",
       "    <tr>\n",
       "      <th>19</th>\n",
       "      <td>7.625000</td>\n",
       "      <td>11.000000</td>\n",
       "      <td>4.897157</td>\n",
       "      <td>1.870829</td>\n",
       "    </tr>\n",
       "    <tr>\n",
       "      <th>20</th>\n",
       "      <td>NaN</td>\n",
       "      <td>9.000000</td>\n",
       "      <td>NaN</td>\n",
       "      <td>NaN</td>\n",
       "    </tr>\n",
       "    <tr>\n",
       "      <th rowspan=\"6\" valign=\"top\">3. 5 - 10 hours</th>\n",
       "      <th>15</th>\n",
       "      <td>9.000000</td>\n",
       "      <td>15.000000</td>\n",
       "      <td>5.500000</td>\n",
       "      <td>3.605551</td>\n",
       "    </tr>\n",
       "    <tr>\n",
       "      <th>16</th>\n",
       "      <td>11.285714</td>\n",
       "      <td>15.000000</td>\n",
       "      <td>3.302236</td>\n",
       "      <td>3.559026</td>\n",
       "    </tr>\n",
       "    <tr>\n",
       "      <th>17</th>\n",
       "      <td>11.421053</td>\n",
       "      <td>NaN</td>\n",
       "      <td>3.775885</td>\n",
       "      <td>NaN</td>\n",
       "    </tr>\n",
       "    <tr>\n",
       "      <th>18</th>\n",
       "      <td>10.700000</td>\n",
       "      <td>12.714286</td>\n",
       "      <td>6.750309</td>\n",
       "      <td>2.288689</td>\n",
       "    </tr>\n",
       "    <tr>\n",
       "      <th>19</th>\n",
       "      <td>9.600000</td>\n",
       "      <td>NaN</td>\n",
       "      <td>5.458938</td>\n",
       "      <td>NaN</td>\n",
       "    </tr>\n",
       "    <tr>\n",
       "      <th>20</th>\n",
       "      <td>15.000000</td>\n",
       "      <td>NaN</td>\n",
       "      <td>NaN</td>\n",
       "      <td>NaN</td>\n",
       "    </tr>\n",
       "    <tr>\n",
       "      <th rowspan=\"5\" valign=\"top\">4. &gt;10 hours</th>\n",
       "      <th>15</th>\n",
       "      <td>11.250000</td>\n",
       "      <td>10.571429</td>\n",
       "      <td>3.403430</td>\n",
       "      <td>5.028490</td>\n",
       "    </tr>\n",
       "    <tr>\n",
       "      <th>16</th>\n",
       "      <td>9.333333</td>\n",
       "      <td>17.500000</td>\n",
       "      <td>2.886751</td>\n",
       "      <td>3.535534</td>\n",
       "    </tr>\n",
       "    <tr>\n",
       "      <th>17</th>\n",
       "      <td>12.250000</td>\n",
       "      <td>NaN</td>\n",
       "      <td>8.500000</td>\n",
       "      <td>NaN</td>\n",
       "    </tr>\n",
       "    <tr>\n",
       "      <th>18</th>\n",
       "      <td>11.400000</td>\n",
       "      <td>8.000000</td>\n",
       "      <td>6.618157</td>\n",
       "      <td>NaN</td>\n",
       "    </tr>\n",
       "    <tr>\n",
       "      <th>19</th>\n",
       "      <td>8.000000</td>\n",
       "      <td>NaN</td>\n",
       "      <td>NaN</td>\n",
       "      <td>NaN</td>\n",
       "    </tr>\n",
       "  </tbody>\n",
       "</table>\n",
       "</div>"
      ],
      "text/plain": [
       "                          mean                  std          \n",
       "sex                          F          M         F         M\n",
       "studytime       age                                          \n",
       "1. <2 hours     15   10.857143  13.357143  6.039552  2.898465\n",
       "                16   10.333333  10.400000  4.330127  5.515131\n",
       "                17    8.875000   9.882353  5.436320  4.768154\n",
       "                18    8.666667   8.285714  2.309401  4.427685\n",
       "                19         NaN   5.000000       NaN  4.582576\n",
       "                20         NaN  18.000000       NaN       NaN\n",
       "                21         NaN   7.000000       NaN       NaN\n",
       "                22         NaN   8.000000       NaN       NaN\n",
       "2. 2 - 5 hours  15    8.944444  12.700000  3.701704  4.612340\n",
       "                16   10.542857  11.736842  3.950747  2.959769\n",
       "                17   10.037037  10.043478  4.318845  2.976854\n",
       "                18    8.440000   9.941176  4.975607  4.892221\n",
       "                19    7.625000  11.000000  4.897157  1.870829\n",
       "                20         NaN   9.000000       NaN       NaN\n",
       "3. 5 - 10 hours 15    9.000000  15.000000  5.500000  3.605551\n",
       "                16   11.285714  15.000000  3.302236  3.559026\n",
       "                17   11.421053        NaN  3.775885       NaN\n",
       "                18   10.700000  12.714286  6.750309  2.288689\n",
       "                19    9.600000        NaN  5.458938       NaN\n",
       "                20   15.000000        NaN       NaN       NaN\n",
       "4. >10 hours    15   11.250000  10.571429  3.403430  5.028490\n",
       "                16    9.333333  17.500000  2.886751  3.535534\n",
       "                17   12.250000        NaN  8.500000       NaN\n",
       "                18   11.400000   8.000000  6.618157       NaN\n",
       "                19    8.000000        NaN       NaN       NaN"
      ]
     },
     "execution_count": 37,
     "metadata": {},
     "output_type": "execute_result"
    }
   ],
   "source": [
    "df.pivot_table(\n",
    "    values=\"score\", index=([\"studytime\",\"age\"]), columns=\"sex\", aggfunc= (['mean','std'])\n",
    "    )\n"
   ]
  },
  {
   "cell_type": "markdown",
   "id": "997193d1",
   "metadata": {},
   "source": [
    "# Students with and without internet"
   ]
  },
  {
   "cell_type": "code",
   "execution_count": 42,
   "id": "3d7001d4",
   "metadata": {},
   "outputs": [
    {
     "name": "stdout",
     "output_type": "stream",
     "text": [
      "The next result represents the amount of the students that do not have internet: 66\n"
     ]
    }
   ],
   "source": [
    "inter_n = df.loc[df['internet'] == 'no'].count()[0]\n",
    "inter_n\n",
    "\n",
    "print('The next result represents the amount of the students that do not have internet:',inter_n)"
   ]
  },
  {
   "cell_type": "code",
   "execution_count": 43,
   "id": "d3c72875",
   "metadata": {},
   "outputs": [
    {
     "name": "stdout",
     "output_type": "stream",
     "text": [
      "The next result represents the amount of the students that have internet: 329\n"
     ]
    }
   ],
   "source": [
    "inter_y = df.loc[df['internet'] == 'yes'].count()[0]\n",
    "inter_y\n",
    "\n",
    "print('The next result represents the amount of the students that have internet:',inter_y)"
   ]
  },
  {
   "cell_type": "code",
   "execution_count": 116,
   "id": "727e86d4",
   "metadata": {},
   "outputs": [
    {
     "data": {
      "image/png": "[encoded data removed]",
      "text/plain": [
       "<Figure size 640x480 with 1 Axes>"
      ]
     },
     "metadata": {},
     "output_type": "display_data"
    }
   ],
   "source": [
    "labels = ['Do not have internet', 'Have internet']\n",
    "\n",
    "plt.pie([inter_n,inter_y],labels = labels, autopct = '%.2f%%')\n",
    "\n",
    "plt.title('Percentage of sudents with or without internet')\n",
    "plt.show()"
   ]
  },
  {
   "cell_type": "markdown",
   "id": "5914e637",
   "metadata": {},
   "source": [
    "# Gender significant for a passing score"
   ]
  },
  {
   "cell_type": "markdown",
   "id": "19c75f65",
   "metadata": {},
   "source": [
    "Null hypothesis: The gender does not matter to have a passing score\n",
    "H0: μ1=μ2=…=μp\n",
    "\n",
    "Alternative hypothesis: The gender matter to have a passing score\n",
    "H1: All μ are not equal"
   ]
  },
  {
   "cell_type": "code",
   "execution_count": 98,
   "id": "1e401d38",
   "metadata": {},
   "outputs": [
    {
     "data": {
      "text/html": [
       "<div>\n",
       "<style scoped>\n",
       "    .dataframe tbody tr th:only-of-type {\n",
       "        vertical-align: middle;\n",
       "    }\n",
       "\n",
       "    .dataframe tbody tr th {\n",
       "        vertical-align: top;\n",
       "    }\n",
       "\n",
       "    .dataframe thead th {\n",
       "        text-align: right;\n",
       "    }\n",
       "</style>\n",
       "<table border=\"1\" class=\"dataframe\">\n",
       "  <thead>\n",
       "    <tr style=\"text-align: right;\">\n",
       "      <th></th>\n",
       "      <th>Source</th>\n",
       "      <th>SS</th>\n",
       "      <th>DF</th>\n",
       "      <th>MS</th>\n",
       "      <th>F</th>\n",
       "      <th>p-unc</th>\n",
       "      <th>np2</th>\n",
       "    </tr>\n",
       "  </thead>\n",
       "  <tbody>\n",
       "    <tr>\n",
       "      <th>0</th>\n",
       "      <td>sex</td>\n",
       "      <td>88.5134</td>\n",
       "      <td>1</td>\n",
       "      <td>88.5134</td>\n",
       "      <td>4.2518</td>\n",
       "      <td>0.0399</td>\n",
       "      <td>0.0107</td>\n",
       "    </tr>\n",
       "    <tr>\n",
       "      <th>1</th>\n",
       "      <td>Within</td>\n",
       "      <td>8181.3954</td>\n",
       "      <td>393</td>\n",
       "      <td>20.8178</td>\n",
       "      <td>NaN</td>\n",
       "      <td>NaN</td>\n",
       "      <td>NaN</td>\n",
       "    </tr>\n",
       "  </tbody>\n",
       "</table>\n",
       "</div>"
      ],
      "text/plain": [
       "   Source         SS   DF       MS       F   p-unc     np2\n",
       "0     sex    88.5134    1  88.5134  4.2518  0.0399  0.0107\n",
       "1  Within  8181.3954  393  20.8178     NaN     NaN     NaN"
      ]
     },
     "execution_count": 98,
     "metadata": {},
     "output_type": "execute_result"
    }
   ],
   "source": [
    "pg.anova(\n",
    "    data = df,\n",
    "    dv = 'score',\n",
    "    between = ['sex'],\n",
    "    detailed = True\n",
    ").round(4)"
   ]
  },
  {
   "cell_type": "markdown",
   "id": "fef1c010",
   "metadata": {},
   "source": [
    "The p value obtained form ANOVA analysis for gender are not significant. \n"
   ]
  },
  {
   "cell_type": "markdown",
   "id": "4a75708e",
   "metadata": {},
   "source": [
    "The null hypothesis is accepted because the p value is lower than beta."
   ]
  },
  {
   "cell_type": "markdown",
   "id": "190bca7c",
   "metadata": {},
   "source": [
    "We conclude that gender does not affects the score."
   ]
  },
  {
   "cell_type": "code",
   "execution_count": 99,
   "id": "c6e8c809",
   "metadata": {},
   "outputs": [
    {
     "data": {
      "text/html": [
       "<div>\n",
       "<style scoped>\n",
       "    .dataframe tbody tr th:only-of-type {\n",
       "        vertical-align: middle;\n",
       "    }\n",
       "\n",
       "    .dataframe tbody tr th {\n",
       "        vertical-align: top;\n",
       "    }\n",
       "\n",
       "    .dataframe thead th {\n",
       "        text-align: right;\n",
       "    }\n",
       "</style>\n",
       "<table border=\"1\" class=\"dataframe\">\n",
       "  <thead>\n",
       "    <tr style=\"text-align: right;\">\n",
       "      <th></th>\n",
       "      <th>mean</th>\n",
       "      <th>std</th>\n",
       "    </tr>\n",
       "    <tr>\n",
       "      <th>sex</th>\n",
       "      <th></th>\n",
       "      <th></th>\n",
       "    </tr>\n",
       "  </thead>\n",
       "  <tbody>\n",
       "    <tr>\n",
       "      <th>F</th>\n",
       "      <td>9.966346</td>\n",
       "      <td>4.622338</td>\n",
       "    </tr>\n",
       "    <tr>\n",
       "      <th>M</th>\n",
       "      <td>10.914439</td>\n",
       "      <td>4.495297</td>\n",
       "    </tr>\n",
       "  </tbody>\n",
       "</table>\n",
       "</div>"
      ],
      "text/plain": [
       "          mean       std\n",
       "sex                     \n",
       "F     9.966346  4.622338\n",
       "M    10.914439  4.495297"
      ]
     },
     "execution_count": 99,
     "metadata": {},
     "output_type": "execute_result"
    }
   ],
   "source": [
    "df.groupby('sex')['score'].agg(['mean','std'])"
   ]
  },
  {
   "cell_type": "markdown",
   "id": "cc3918e2",
   "metadata": {},
   "source": [
    "# Internet significant for a passing score"
   ]
  },
  {
   "cell_type": "markdown",
   "id": "f6a8b4a3",
   "metadata": {},
   "source": [
    "Null hypothesis: Have internet does not matter to have a passing score\n",
    "H0: μ1=μ2=…=μp\n",
    "\n",
    "Alternative hypothesis: Have internet matter to have a passing score\n",
    "H1: All μ are not equal"
   ]
  },
  {
   "cell_type": "code",
   "execution_count": 48,
   "id": "cb4012a7",
   "metadata": {},
   "outputs": [
    {
     "data": {
      "text/html": [
       "<div>\n",
       "<style scoped>\n",
       "    .dataframe tbody tr th:only-of-type {\n",
       "        vertical-align: middle;\n",
       "    }\n",
       "\n",
       "    .dataframe tbody tr th {\n",
       "        vertical-align: top;\n",
       "    }\n",
       "\n",
       "    .dataframe thead th {\n",
       "        text-align: right;\n",
       "    }\n",
       "</style>\n",
       "<table border=\"1\" class=\"dataframe\">\n",
       "  <thead>\n",
       "    <tr style=\"text-align: right;\">\n",
       "      <th></th>\n",
       "      <th>Source</th>\n",
       "      <th>SS</th>\n",
       "      <th>DF</th>\n",
       "      <th>MS</th>\n",
       "      <th>F</th>\n",
       "      <th>p-unc</th>\n",
       "      <th>np2</th>\n",
       "    </tr>\n",
       "  </thead>\n",
       "  <tbody>\n",
       "    <tr>\n",
       "      <th>0</th>\n",
       "      <td>internet</td>\n",
       "      <td>80.2096</td>\n",
       "      <td>1</td>\n",
       "      <td>80.2096</td>\n",
       "      <td>3.849</td>\n",
       "      <td>0.0505</td>\n",
       "      <td>0.0097</td>\n",
       "    </tr>\n",
       "    <tr>\n",
       "      <th>1</th>\n",
       "      <td>Within</td>\n",
       "      <td>8189.6992</td>\n",
       "      <td>393</td>\n",
       "      <td>20.8389</td>\n",
       "      <td>NaN</td>\n",
       "      <td>NaN</td>\n",
       "      <td>NaN</td>\n",
       "    </tr>\n",
       "  </tbody>\n",
       "</table>\n",
       "</div>"
      ],
      "text/plain": [
       "     Source         SS   DF       MS      F   p-unc     np2\n",
       "0  internet    80.2096    1  80.2096  3.849  0.0505  0.0097\n",
       "1    Within  8189.6992  393  20.8389    NaN     NaN     NaN"
      ]
     },
     "execution_count": 48,
     "metadata": {},
     "output_type": "execute_result"
    }
   ],
   "source": [
    "pg.anova(\n",
    "    data = df,\n",
    "    dv = 'score',\n",
    "    between = ['internet'],\n",
    "    detailed = True\n",
    ").round(4)"
   ]
  },
  {
   "cell_type": "markdown",
   "id": "416dafdc",
   "metadata": {},
   "source": [
    "The p value obtained form ANOVA analysis for internet is statistically significant. \n"
   ]
  },
  {
   "cell_type": "markdown",
   "id": "c3fb9d1c",
   "metadata": {},
   "source": [
    "The null hypothesis is rejected because the p value is higher than beta."
   ]
  },
  {
   "cell_type": "markdown",
   "id": "fea883e1",
   "metadata": {},
   "source": [
    "We conclude that internet affects the score."
   ]
  },
  {
   "cell_type": "code",
   "execution_count": 49,
   "id": "828bf883",
   "metadata": {},
   "outputs": [
    {
     "data": {
      "text/html": [
       "<div>\n",
       "<style scoped>\n",
       "    .dataframe tbody tr th:only-of-type {\n",
       "        vertical-align: middle;\n",
       "    }\n",
       "\n",
       "    .dataframe tbody tr th {\n",
       "        vertical-align: top;\n",
       "    }\n",
       "\n",
       "    .dataframe thead th {\n",
       "        text-align: right;\n",
       "    }\n",
       "</style>\n",
       "<table border=\"1\" class=\"dataframe\">\n",
       "  <thead>\n",
       "    <tr style=\"text-align: right;\">\n",
       "      <th></th>\n",
       "      <th>mean</th>\n",
       "      <th>std</th>\n",
       "    </tr>\n",
       "    <tr>\n",
       "      <th>internet</th>\n",
       "      <th></th>\n",
       "      <th></th>\n",
       "    </tr>\n",
       "  </thead>\n",
       "  <tbody>\n",
       "    <tr>\n",
       "      <th>no</th>\n",
       "      <td>9.409091</td>\n",
       "      <td>4.485797</td>\n",
       "    </tr>\n",
       "    <tr>\n",
       "      <th>yes</th>\n",
       "      <td>10.617021</td>\n",
       "      <td>4.580494</td>\n",
       "    </tr>\n",
       "  </tbody>\n",
       "</table>\n",
       "</div>"
      ],
      "text/plain": [
       "               mean       std\n",
       "internet                     \n",
       "no         9.409091  4.485797\n",
       "yes       10.617021  4.580494"
      ]
     },
     "execution_count": 49,
     "metadata": {},
     "output_type": "execute_result"
    }
   ],
   "source": [
    "df.groupby('internet')['score'].agg(['mean','std'])"
   ]
  },
  {
   "cell_type": "code",
   "execution_count": 106,
   "id": "8ff50d24",
   "metadata": {},
   "outputs": [
    {
     "data": {
      "image/png": "[encoded data removed]",
      "text/plain": [
       "<Figure size 600x400 with 1 Axes>"
      ]
     },
     "metadata": {},
     "output_type": "display_data"
    }
   ],
   "source": [
    "# In the following graphic you can analyse the behavior of both of the gender \n",
    "# Internet vs score\n",
    "\n",
    "fig, ax = plt.subplots(figsize=(6, 4))\n",
    "fig = interaction_plot(\n",
    "    x        = df.sex, \n",
    "    trace    = df.internet,\n",
    "    response = df.score,\n",
    "    ax       = ax,\n",
    ")"
   ]
  },
  {
   "cell_type": "markdown",
   "id": "be448699",
   "metadata": {},
   "source": [
    "# Study time significant for a passing score"
   ]
  },
  {
   "cell_type": "markdown",
   "id": "1fb98f7a",
   "metadata": {},
   "source": [
    "Null hypothesis: Study time does not matter to have a passing score\n",
    "H0: μ1=μ2=…=μp\n",
    "\n",
    "Alternative hypothesis: Study time matter to have a passing score\n",
    "H1: All μ are not equal"
   ]
  },
  {
   "cell_type": "code",
   "execution_count": 52,
   "id": "230414b5",
   "metadata": {},
   "outputs": [
    {
     "data": {
      "text/html": [
       "<div>\n",
       "<style scoped>\n",
       "    .dataframe tbody tr th:only-of-type {\n",
       "        vertical-align: middle;\n",
       "    }\n",
       "\n",
       "    .dataframe tbody tr th {\n",
       "        vertical-align: top;\n",
       "    }\n",
       "\n",
       "    .dataframe thead th {\n",
       "        text-align: right;\n",
       "    }\n",
       "</style>\n",
       "<table border=\"1\" class=\"dataframe\">\n",
       "  <thead>\n",
       "    <tr style=\"text-align: right;\">\n",
       "      <th></th>\n",
       "      <th>Source</th>\n",
       "      <th>SS</th>\n",
       "      <th>DF</th>\n",
       "      <th>MS</th>\n",
       "      <th>F</th>\n",
       "      <th>p-unc</th>\n",
       "      <th>np2</th>\n",
       "    </tr>\n",
       "  </thead>\n",
       "  <tbody>\n",
       "    <tr>\n",
       "      <th>0</th>\n",
       "      <td>studytime</td>\n",
       "      <td>108.2002</td>\n",
       "      <td>3</td>\n",
       "      <td>36.0667</td>\n",
       "      <td>1.7278</td>\n",
       "      <td>0.1607</td>\n",
       "      <td>0.0131</td>\n",
       "    </tr>\n",
       "    <tr>\n",
       "      <th>1</th>\n",
       "      <td>Within</td>\n",
       "      <td>8161.7087</td>\n",
       "      <td>391</td>\n",
       "      <td>20.8739</td>\n",
       "      <td>NaN</td>\n",
       "      <td>NaN</td>\n",
       "      <td>NaN</td>\n",
       "    </tr>\n",
       "  </tbody>\n",
       "</table>\n",
       "</div>"
      ],
      "text/plain": [
       "      Source         SS   DF       MS       F   p-unc     np2\n",
       "0  studytime   108.2002    3  36.0667  1.7278  0.1607  0.0131\n",
       "1     Within  8161.7087  391  20.8739     NaN     NaN     NaN"
      ]
     },
     "execution_count": 52,
     "metadata": {},
     "output_type": "execute_result"
    }
   ],
   "source": [
    "pg.anova(\n",
    "    data = df,\n",
    "    dv = 'score',\n",
    "    between = ['studytime'],\n",
    "    detailed = True\n",
    ").round(4)"
   ]
  },
  {
   "cell_type": "markdown",
   "id": "f9069a7f",
   "metadata": {},
   "source": [
    "The p value obtained form ANOVA analysis for study time is statistically significant. \n"
   ]
  },
  {
   "cell_type": "markdown",
   "id": "71a7123e",
   "metadata": {},
   "source": [
    "The null hypothesis is rejected because the p value is higher than beta."
   ]
  },
  {
   "cell_type": "markdown",
   "id": "98532d97",
   "metadata": {},
   "source": [
    "We conclude that study time affects the score."
   ]
  },
  {
   "cell_type": "code",
   "execution_count": 53,
   "id": "8275cf27",
   "metadata": {},
   "outputs": [
    {
     "data": {
      "text/html": [
       "<div>\n",
       "<style scoped>\n",
       "    .dataframe tbody tr th:only-of-type {\n",
       "        vertical-align: middle;\n",
       "    }\n",
       "\n",
       "    .dataframe tbody tr th {\n",
       "        vertical-align: top;\n",
       "    }\n",
       "\n",
       "    .dataframe thead th {\n",
       "        text-align: right;\n",
       "    }\n",
       "</style>\n",
       "<table border=\"1\" class=\"dataframe\">\n",
       "  <thead>\n",
       "    <tr style=\"text-align: right;\">\n",
       "      <th></th>\n",
       "      <th>mean</th>\n",
       "      <th>std</th>\n",
       "    </tr>\n",
       "    <tr>\n",
       "      <th>studytime</th>\n",
       "      <th></th>\n",
       "      <th></th>\n",
       "    </tr>\n",
       "  </thead>\n",
       "  <tbody>\n",
       "    <tr>\n",
       "      <th>1. &lt;2 hours</th>\n",
       "      <td>10.047619</td>\n",
       "      <td>4.956311</td>\n",
       "    </tr>\n",
       "    <tr>\n",
       "      <th>2. 2 - 5 hours</th>\n",
       "      <td>10.171717</td>\n",
       "      <td>4.217537</td>\n",
       "    </tr>\n",
       "    <tr>\n",
       "      <th>3. 5 - 10 hours</th>\n",
       "      <td>11.400000</td>\n",
       "      <td>4.639504</td>\n",
       "    </tr>\n",
       "    <tr>\n",
       "      <th>4. &gt;10 hours</th>\n",
       "      <td>11.259259</td>\n",
       "      <td>5.281263</td>\n",
       "    </tr>\n",
       "  </tbody>\n",
       "</table>\n",
       "</div>"
      ],
      "text/plain": [
       "                      mean       std\n",
       "studytime                           \n",
       "1. <2 hours      10.047619  4.956311\n",
       "2. 2 - 5 hours   10.171717  4.217537\n",
       "3. 5 - 10 hours  11.400000  4.639504\n",
       "4. >10 hours     11.259259  5.281263"
      ]
     },
     "execution_count": 53,
     "metadata": {},
     "output_type": "execute_result"
    }
   ],
   "source": [
    "df.groupby('studytime')['score'].agg(['mean','std'])"
   ]
  },
  {
   "cell_type": "code",
   "execution_count": 62,
   "id": "eb97959d",
   "metadata": {},
   "outputs": [
    {
     "data": {
      "image/png": "[encoded data removed]",
      "text/plain": [
       "<Figure size 600x400 with 1 Axes>"
      ]
     },
     "metadata": {},
     "output_type": "display_data"
    }
   ],
   "source": [
    "# In the following graphic you can analyse the behavior of both of the gender \n",
    "# Study time vs score\n",
    "\n",
    "fig, ax = plt.subplots(figsize=(6, 4))\n",
    "fig = interaction_plot(\n",
    "    x        = df.sex,\n",
    "    trace    = df.studytime,\n",
    "    response = df.score,\n",
    "    ax       = ax,\n",
    ")"
   ]
  },
  {
   "cell_type": "markdown",
   "id": "cdf4e103",
   "metadata": {},
   "source": [
    "# Family size significant for a passing score"
   ]
  },
  {
   "cell_type": "markdown",
   "id": "3c67fecc",
   "metadata": {},
   "source": [
    "Null hypothesis: The family size does not matter to have a passing score\n",
    "H0: μ1=μ2=…=μp\n",
    "\n",
    "Alternative hypothesis: The family size matter to have a passing score\n",
    "H1: All μ are not equal"
   ]
  },
  {
   "cell_type": "code",
   "execution_count": 54,
   "id": "9e009582",
   "metadata": {},
   "outputs": [
    {
     "data": {
      "text/html": [
       "<div>\n",
       "<style scoped>\n",
       "    .dataframe tbody tr th:only-of-type {\n",
       "        vertical-align: middle;\n",
       "    }\n",
       "\n",
       "    .dataframe tbody tr th {\n",
       "        vertical-align: top;\n",
       "    }\n",
       "\n",
       "    .dataframe thead th {\n",
       "        text-align: right;\n",
       "    }\n",
       "</style>\n",
       "<table border=\"1\" class=\"dataframe\">\n",
       "  <thead>\n",
       "    <tr style=\"text-align: right;\">\n",
       "      <th></th>\n",
       "      <th>Source</th>\n",
       "      <th>SS</th>\n",
       "      <th>DF</th>\n",
       "      <th>MS</th>\n",
       "      <th>F</th>\n",
       "      <th>p-unc</th>\n",
       "      <th>np2</th>\n",
       "    </tr>\n",
       "  </thead>\n",
       "  <tbody>\n",
       "    <tr>\n",
       "      <th>0</th>\n",
       "      <td>familysize</td>\n",
       "      <td>54.8057</td>\n",
       "      <td>1</td>\n",
       "      <td>54.8057</td>\n",
       "      <td>2.6218</td>\n",
       "      <td>0.1062</td>\n",
       "      <td>0.0066</td>\n",
       "    </tr>\n",
       "    <tr>\n",
       "      <th>1</th>\n",
       "      <td>Within</td>\n",
       "      <td>8215.1032</td>\n",
       "      <td>393</td>\n",
       "      <td>20.9036</td>\n",
       "      <td>NaN</td>\n",
       "      <td>NaN</td>\n",
       "      <td>NaN</td>\n",
       "    </tr>\n",
       "  </tbody>\n",
       "</table>\n",
       "</div>"
      ],
      "text/plain": [
       "       Source         SS   DF       MS       F   p-unc     np2\n",
       "0  familysize    54.8057    1  54.8057  2.6218  0.1062  0.0066\n",
       "1      Within  8215.1032  393  20.9036     NaN     NaN     NaN"
      ]
     },
     "execution_count": 54,
     "metadata": {},
     "output_type": "execute_result"
    }
   ],
   "source": [
    "pg.anova(\n",
    "    data = df,\n",
    "    dv = 'score',\n",
    "    between = ['familysize'],\n",
    "    detailed = True\n",
    ").round(4)"
   ]
  },
  {
   "cell_type": "markdown",
   "id": "0ed4ff75",
   "metadata": {},
   "source": [
    "The p value obtained form ANOVA analysis for family size is statistically significant. \n"
   ]
  },
  {
   "cell_type": "markdown",
   "id": "ebb52acb",
   "metadata": {},
   "source": [
    "The null hypothesis is rejected because the p value is higher than beta."
   ]
  },
  {
   "cell_type": "markdown",
   "id": "0fba7d6d",
   "metadata": {},
   "source": [
    "We conclude that family size affects the score."
   ]
  },
  {
   "cell_type": "code",
   "execution_count": 55,
   "id": "ff8ddaaf",
   "metadata": {},
   "outputs": [
    {
     "data": {
      "text/html": [
       "<div>\n",
       "<style scoped>\n",
       "    .dataframe tbody tr th:only-of-type {\n",
       "        vertical-align: middle;\n",
       "    }\n",
       "\n",
       "    .dataframe tbody tr th {\n",
       "        vertical-align: top;\n",
       "    }\n",
       "\n",
       "    .dataframe thead th {\n",
       "        text-align: right;\n",
       "    }\n",
       "</style>\n",
       "<table border=\"1\" class=\"dataframe\">\n",
       "  <thead>\n",
       "    <tr style=\"text-align: right;\">\n",
       "      <th></th>\n",
       "      <th>mean</th>\n",
       "      <th>std</th>\n",
       "    </tr>\n",
       "    <tr>\n",
       "      <th>familysize</th>\n",
       "      <th></th>\n",
       "      <th></th>\n",
       "    </tr>\n",
       "  </thead>\n",
       "  <tbody>\n",
       "    <tr>\n",
       "      <th>&lt;=3</th>\n",
       "      <td>11.000000</td>\n",
       "      <td>4.225921</td>\n",
       "    </tr>\n",
       "    <tr>\n",
       "      <th>&gt;3</th>\n",
       "      <td>10.177936</td>\n",
       "      <td>4.704520</td>\n",
       "    </tr>\n",
       "  </tbody>\n",
       "</table>\n",
       "</div>"
      ],
      "text/plain": [
       "                 mean       std\n",
       "familysize                     \n",
       "<=3         11.000000  4.225921\n",
       ">3          10.177936  4.704520"
      ]
     },
     "execution_count": 55,
     "metadata": {},
     "output_type": "execute_result"
    }
   ],
   "source": [
    "df.groupby('familysize')['score'].agg(['mean','std'])"
   ]
  },
  {
   "cell_type": "code",
   "execution_count": 64,
   "id": "9b37f86d",
   "metadata": {},
   "outputs": [
    {
     "data": {
      "image/png": "[encoded data removed]",
      "text/plain": [
       "<Figure size 600x400 with 1 Axes>"
      ]
     },
     "metadata": {},
     "output_type": "display_data"
    }
   ],
   "source": [
    "# In the following graphic you can analyse the behavior of both of the gender \n",
    "# Family size vs score\n",
    "\n",
    "fig, ax = plt.subplots(figsize=(6, 4))\n",
    "fig = interaction_plot(\n",
    "    x        = df.sex,\n",
    "    trace    = df.familysize,\n",
    "    response = df.score,\n",
    "    ax       = ax,\n",
    ")"
   ]
  },
  {
   "cell_type": "markdown",
   "id": "fbcd17c6",
   "metadata": {},
   "source": [
    "# Age significant for a passing score"
   ]
  },
  {
   "cell_type": "markdown",
   "id": "b11b7f44",
   "metadata": {},
   "source": [
    "Null hypothesis: The age does not matter to have a passing score\n",
    "H0: μ1=μ2=…=μp\n",
    "\n",
    "Alternative hypothesis: The age matter to have a passing score\n",
    "H1: All μ are not equal"
   ]
  },
  {
   "cell_type": "code",
   "execution_count": 56,
   "id": "66d8acc2",
   "metadata": {},
   "outputs": [
    {
     "data": {
      "text/html": [
       "<div>\n",
       "<style scoped>\n",
       "    .dataframe tbody tr th:only-of-type {\n",
       "        vertical-align: middle;\n",
       "    }\n",
       "\n",
       "    .dataframe tbody tr th {\n",
       "        vertical-align: top;\n",
       "    }\n",
       "\n",
       "    .dataframe thead th {\n",
       "        text-align: right;\n",
       "    }\n",
       "</style>\n",
       "<table border=\"1\" class=\"dataframe\">\n",
       "  <thead>\n",
       "    <tr style=\"text-align: right;\">\n",
       "      <th></th>\n",
       "      <th>Source</th>\n",
       "      <th>SS</th>\n",
       "      <th>DF</th>\n",
       "      <th>MS</th>\n",
       "      <th>F</th>\n",
       "      <th>p-unc</th>\n",
       "      <th>np2</th>\n",
       "    </tr>\n",
       "  </thead>\n",
       "  <tbody>\n",
       "    <tr>\n",
       "      <th>0</th>\n",
       "      <td>age</td>\n",
       "      <td>333.5490</td>\n",
       "      <td>7</td>\n",
       "      <td>47.6499</td>\n",
       "      <td>2.3235</td>\n",
       "      <td>0.0248</td>\n",
       "      <td>0.0403</td>\n",
       "    </tr>\n",
       "    <tr>\n",
       "      <th>1</th>\n",
       "      <td>Within</td>\n",
       "      <td>7936.3598</td>\n",
       "      <td>387</td>\n",
       "      <td>20.5074</td>\n",
       "      <td>NaN</td>\n",
       "      <td>NaN</td>\n",
       "      <td>NaN</td>\n",
       "    </tr>\n",
       "  </tbody>\n",
       "</table>\n",
       "</div>"
      ],
      "text/plain": [
       "   Source         SS   DF       MS       F   p-unc     np2\n",
       "0     age   333.5490    7  47.6499  2.3235  0.0248  0.0403\n",
       "1  Within  7936.3598  387  20.5074     NaN     NaN     NaN"
      ]
     },
     "execution_count": 56,
     "metadata": {},
     "output_type": "execute_result"
    }
   ],
   "source": [
    "pg.anova(\n",
    "    data = df,\n",
    "    dv = 'score',\n",
    "    between = ['age'],\n",
    "    detailed = True\n",
    ").round(4)"
   ]
  },
  {
   "cell_type": "markdown",
   "id": "9cfe798b",
   "metadata": {},
   "source": [
    "The p value obtained form ANOVA analysis for age are not significant. "
   ]
  },
  {
   "cell_type": "markdown",
   "id": "57418487",
   "metadata": {},
   "source": [
    "The null hypothesis is accepted because the p value is lower than beta."
   ]
  },
  {
   "cell_type": "markdown",
   "id": "b8f0d100",
   "metadata": {},
   "source": [
    "We conclude that age does not affects the score."
   ]
  },
  {
   "cell_type": "code",
   "execution_count": 57,
   "id": "5b182bed",
   "metadata": {},
   "outputs": [
    {
     "name": "stdout",
     "output_type": "stream",
     "text": [
      "score medio y desviacion tipica por edad\n"
     ]
    },
    {
     "data": {
      "text/html": [
       "<div>\n",
       "<style scoped>\n",
       "    .dataframe tbody tr th:only-of-type {\n",
       "        vertical-align: middle;\n",
       "    }\n",
       "\n",
       "    .dataframe tbody tr th {\n",
       "        vertical-align: top;\n",
       "    }\n",
       "\n",
       "    .dataframe thead th {\n",
       "        text-align: right;\n",
       "    }\n",
       "</style>\n",
       "<table border=\"1\" class=\"dataframe\">\n",
       "  <thead>\n",
       "    <tr style=\"text-align: right;\">\n",
       "      <th></th>\n",
       "      <th>mean</th>\n",
       "      <th>std</th>\n",
       "    </tr>\n",
       "    <tr>\n",
       "      <th>age</th>\n",
       "      <th></th>\n",
       "      <th></th>\n",
       "    </tr>\n",
       "  </thead>\n",
       "  <tbody>\n",
       "    <tr>\n",
       "      <th>15</th>\n",
       "      <td>11.256098</td>\n",
       "      <td>4.596861</td>\n",
       "    </tr>\n",
       "    <tr>\n",
       "      <th>16</th>\n",
       "      <td>11.028846</td>\n",
       "      <td>4.282402</td>\n",
       "    </tr>\n",
       "    <tr>\n",
       "      <th>17</th>\n",
       "      <td>10.275510</td>\n",
       "      <td>4.290437</td>\n",
       "    </tr>\n",
       "    <tr>\n",
       "      <th>18</th>\n",
       "      <td>9.548780</td>\n",
       "      <td>4.994200</td>\n",
       "    </tr>\n",
       "    <tr>\n",
       "      <th>19</th>\n",
       "      <td>8.208333</td>\n",
       "      <td>4.606037</td>\n",
       "    </tr>\n",
       "    <tr>\n",
       "      <th>20</th>\n",
       "      <td>14.000000</td>\n",
       "      <td>4.582576</td>\n",
       "    </tr>\n",
       "    <tr>\n",
       "      <th>21</th>\n",
       "      <td>7.000000</td>\n",
       "      <td>NaN</td>\n",
       "    </tr>\n",
       "    <tr>\n",
       "      <th>22</th>\n",
       "      <td>8.000000</td>\n",
       "      <td>NaN</td>\n",
       "    </tr>\n",
       "  </tbody>\n",
       "</table>\n",
       "</div>"
      ],
      "text/plain": [
       "          mean       std\n",
       "age                     \n",
       "15   11.256098  4.596861\n",
       "16   11.028846  4.282402\n",
       "17   10.275510  4.290437\n",
       "18    9.548780  4.994200\n",
       "19    8.208333  4.606037\n",
       "20   14.000000  4.582576\n",
       "21    7.000000       NaN\n",
       "22    8.000000       NaN"
      ]
     },
     "execution_count": 57,
     "metadata": {},
     "output_type": "execute_result"
    }
   ],
   "source": [
    "print('score medio y desviacion tipica por edad')\n",
    "df.groupby('age')['score'].agg(['mean','std'])"
   ]
  },
  {
   "cell_type": "code",
   "execution_count": 123,
   "id": "c777f689",
   "metadata": {},
   "outputs": [
    {
     "data": {
      "image/png": "[encoded data removed]",
      "text/plain": [
       "<Figure size 600x400 with 1 Axes>"
      ]
     },
     "metadata": {},
     "output_type": "display_data"
    }
   ],
   "source": [
    "# In the following graphic you can analyse the behavior of both of the gender \n",
    "# Age vs score\n",
    "\n",
    "fig, ax = plt.subplots(figsize=(6, 4))\n",
    "fig = interaction_plot(\n",
    "    x        = df.sex,\n",
    "    trace    = df.age,\n",
    "    response = df.score,\n",
    "    ax       = ax,\n",
    ")\n"
   ]
  }
 ],
 "metadata": {
  "kernelspec": {
   "display_name": "Python 3 (ipykernel)",
   "language": "python",
   "name": "python3"
  },
  "language_info": {
   "codemirror_mode": {
    "name": "ipython",
    "version": 3
   },
   "file_extension": ".py",
   "mimetype": "text/x-python",
   "name": "python",
   "nbconvert_exporter": "python",
   "pygments_lexer": "ipython3",
   "version": "3.9.13"
  }
 },
 "nbformat": 4,
 "nbformat_minor": 5
}
